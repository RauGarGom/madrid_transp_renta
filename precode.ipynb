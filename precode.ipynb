{
 "cells": [
  {
   "cell_type": "markdown",
   "metadata": {},
   "source": [
    "<img src=\"./img/metro_madrid.jpg\" alt=\"drawing\" width=\"500\"/>"
   ]
  },
  {
   "cell_type": "markdown",
   "metadata": {},
   "source": [
    "# Transporte y renta en la Comunidad de Madrid"
   ]
  },
  {
   "cell_type": "markdown",
   "metadata": {},
   "source": [
    "### TEMA"
   ]
  },
  {
   "cell_type": "markdown",
   "metadata": {},
   "source": [
    "Este proyecto busca arrojar luz sobre los patrones de comportamiento en el transporte de los ciudadanos de la Comunidad de Madrid, estudiando posibles vínculos con su renta. Para ello, se utiliza la [Encuesta de Movilidad del Consorcio Regional](https://datos.comunidad.madrid/dataset/resultados-edm2018) de Transportes de Madrid (CRTM), realizada en el 2018.\n",
    "\n",
    "Para los cálculos de la renta, se utilizan diferentes tablas extraídas de la [Encuesta de Condiciones de Vida](https://ine.es/dyngs/INEbase/es/operacion.htm?c=Estadistica_C&cid=1254736176807&menu=ultiDatos&idp=1254735976608) del INE, para el año 2018"
   ]
  },
  {
   "cell_type": "markdown",
   "metadata": {},
   "source": [
    "### HIPÓTESIS"
   ]
  },
  {
   "cell_type": "markdown",
   "metadata": {},
   "source": [
    "La hipótesis principal de este proyecto es que **existe una relación entre la renta y el uso del transporte en la Comunidad de Madrid**. En concreto, se buscará contrastar:\n",
    "+ Si las rentas más altas eligen el coche como primera opción para desplazamientos laborales y por placer.\n",
    "+ Las rentas bajas, para trabajar, utilizan más el transporte público que el coche.\n",
    "+ Las mujeres utilizan más el transporte público para desplazamientos laborales, sin tener en cuenta la renta.\n",
    "    + Lo que, unido al segundo punto, explicaría que las mujeres no usan más el transporte público por deseo sino por necesidad.\n",
    "+ Los hombres utilizan más el transporte privado para desplazamientos por placer\n"
   ]
  },
  {
   "cell_type": "markdown",
   "metadata": {},
   "source": [
    "### SUPUESTOS\n",
    "Dados los datos utilizados, hemos de tener en cuenta varios puntos:\n",
    "+ Se está utilizando la última encuesta publicada por el CRTM (en serio).\n",
    "    + Sí se cuentan con los datos de uso del Metro de Madrid, que en 2023 volvieron a niveles pre-pandemia. Por tanto, podemos suponer que no han cambiado las pautas de comportamiento en un nivel agregado\n",
    "+ No contamos con la renta de los encuestados. Para ello generaremos un dato *proxy*, que estimaremos en función de las condiciones socioeconómicas de los encuestados (edad, ocupación, género, grado de educación, y si cuenta con coche).\n",
    "    + Renta != Riqueza. Estimaremos la cantidad de **generar** , no de **poseer**. Una persona sin trabajo pero con patrimonio no quedará reflejada en este estudio.\n",
    "    + Por disponibilidad de los datos, se utilizarán las medias de las rentas. En función de disponibilidad de los datos, es posible que se recoja la media española en lugar de la de la Comunidad de Madrid.\n",
    "+ Los datos sólo tienen en cuenta días estrictamente laborales (Lunes-Jueves)\n",
    "+ Si bien no tiene impacto a primera vista sobre las hipótesis, se realizará un estudio de impacto de la **meteorología** sobre el uso de unos u otros medios transportes.\n"
   ]
  },
  {
   "cell_type": "markdown",
   "metadata": {},
   "source": [
    "## OBTENCIÓN DE LOS DATOS"
   ]
  },
  {
   "cell_type": "markdown",
   "metadata": {},
   "source": [
    "### DATASETS Y FUENTES ALTERNATIVAS DE DATOS"
   ]
  },
  {
   "cell_type": "code",
   "execution_count": 2,
   "metadata": {},
   "outputs": [],
   "source": [
    "import hashlib\n",
    "import requests\n",
    "import datetime\n",
    "import pandas as pd\n",
    "import numpy as np"
   ]
  },
  {
   "cell_type": "code",
   "execution_count": 30,
   "metadata": {},
   "outputs": [],
   "source": [
    "\n",
    "### TODO: Pasar las Aux a utils\n",
    "### Importar openpyxl\n",
    "# guarda en variables los datasets y su fuente\n",
    "# df_transpk = pd.DataFrame(pd.read_csv(\"./data/raw/kaggle_public_transp.csv\"))\n",
    "# fuente_1a = \"https://www.kaggle.com/datasets/dataguapa/madrid-public-transportation-data-2018\"\n",
    "\n",
    "### MAIN\n",
    "\n",
    "df_transp_ind = pd.DataFrame(pd.read_excel(\"./data/raw/EDM2018INDIVIDUOS.xlsx\", sheet_name = 'INDIVIDUOS'))\n",
    "fuente_1 = \"https://datos.comunidad.madrid/dataset/resultados-edm2018\"\n",
    "\n",
    "df_transp_trp = pd.DataFrame(pd.read_excel(\"./data/raw/EDM2018VIAJES.xlsx\", sheet_name = 'VIAJES'))\n",
    "fuente_1 = \"https://datos.comunidad.madrid/dataset/resultados-edm2018\"\n",
    "\n",
    "\n",
    "### AUX\n",
    "\n",
    "df_hogares = pd.DataFrame(pd.read_csv(\"./data/raw/ine_gasto_hogares.csv\", sep=\";\"))\n",
    "fuente_2 = \"https://www.ine.es/jaxiT3/Tabla.htm?t=24900\"\n",
    "\n",
    "df_ingresos = pd.DataFrame(pd.read_csv(\"./data/raw/ine_madrid_fuentes_ingreso.csv\",sep=\";\"))\n",
    "fuente_3 = \"https://ine.es/jaxiT3/Tabla.htm?t=53687\"\n",
    "\n",
    "df_renta_es = pd.DataFrame(pd.read_csv(\"./data/raw/ine_renta_edad_sexo.csv\",encoding='latin1',sep=\";\"))\n",
    "fuente_4 = \"https://ine.es/jaxiT3/Tabla.htm?t=9942\"\n",
    "\n",
    "df_educacion = pd.DataFrame(pd.read_excel(\"./data/raw/ine_renta_educacion.xlsx\", sheet_name=\"educación\",skiprows=2,index_col=0,nrows=5)) ### Terminar de apañar\n",
    "fuente_5 = \"https://ine.es/ss/Satellite?c=INESeccion_C&cid=1259944504067&p=1254735110672&pagename=ProductosYServicios%2FPYSLayout&param1=PYSDetalleFichaIndicador&param3=1259937499084\""
   ]
  },
  {
   "cell_type": "code",
   "execution_count": 72,
   "metadata": {},
   "outputs": [],
   "source": [
    "df_transp = pd.DataFrame(pd.read_csv(\"./data/treated/transp.csv\"))"
   ]
  },
  {
   "cell_type": "code",
   "execution_count": 184,
   "metadata": {},
   "outputs": [
    {
     "data": {
      "text/html": [
       "<div>\n",
       "<style scoped>\n",
       "    .dataframe tbody tr th:only-of-type {\n",
       "        vertical-align: middle;\n",
       "    }\n",
       "\n",
       "    .dataframe tbody tr th {\n",
       "        vertical-align: top;\n",
       "    }\n",
       "\n",
       "    .dataframe thead th {\n",
       "        text-align: right;\n",
       "    }\n",
       "</style>\n",
       "<table border=\"1\" class=\"dataframe\">\n",
       "  <thead>\n",
       "    <tr style=\"text-align: right;\">\n",
       "      <th></th>\n",
       "      <th>men</th>\n",
       "      <th>women</th>\n",
       "    </tr>\n",
       "    <tr>\n",
       "      <th>1</th>\n",
       "      <th></th>\n",
       "      <th></th>\n",
       "    </tr>\n",
       "  </thead>\n",
       "  <tbody>\n",
       "    <tr>\n",
       "      <th>Menos de 16 años</th>\n",
       "      <td>-0.18</td>\n",
       "      <td>-0.36</td>\n",
       "    </tr>\n",
       "    <tr>\n",
       "      <th>De 16 a 29 años</th>\n",
       "      <td>0.17</td>\n",
       "      <td>-0.04</td>\n",
       "    </tr>\n",
       "    <tr>\n",
       "      <th>De 30 a 44 años</th>\n",
       "      <td>1.63</td>\n",
       "      <td>0.83</td>\n",
       "    </tr>\n",
       "    <tr>\n",
       "      <th>De 45 a 64 años</th>\n",
       "      <td>2.61</td>\n",
       "      <td>2.11</td>\n",
       "    </tr>\n",
       "    <tr>\n",
       "      <th>65 años o más</th>\n",
       "      <td>1.65</td>\n",
       "      <td>1.57</td>\n",
       "    </tr>\n",
       "  </tbody>\n",
       "</table>\n",
       "</div>"
      ],
      "text/plain": [
       "                       men  women\n",
       "1                                \n",
       "    Menos de 16 años -0.18  -0.36\n",
       "    De 16 a 29 años   0.17  -0.04\n",
       "    De 30 a 44 años   1.63   0.83\n",
       "    De 45 a 64 años   2.61   2.11\n",
       "    65 años o más     1.65   1.57"
      ]
     },
     "execution_count": 184,
     "metadata": {},
     "output_type": "execute_result"
    }
   ],
   "source": [
    "### Extracts income of women and men by age, consolidates it into a single dataframe and creates a normalized index with the values\n",
    "df_men_age = pd.DataFrame(pd.read_excel(\"./data/raw/ecv19.xlsx\", sheet_name=\"2.1.1\",skiprows=19,index_col=1,nrows=5,header=None))\n",
    "df_women_age = pd.DataFrame(pd.read_excel(\"./data/raw/ecv19.xlsx\", sheet_name=\"2.1.1\",skiprows=26,index_col=1,nrows=5,header=None))\n",
    "df_gender_age = pd.concat([df_men_age.iloc[:,1],df_women_age.iloc[:,1]],axis=1, keys=[\"men\",\"women\"])\n",
    "df_gender_age = round(((df_gender_age-np.nanmean(df_gender_age))/np.nanstd(df_gender_age)+1),2) ### np.nanmean takes the mean of the whole df\n",
    "df_gender_age"
   ]
  },
  {
   "cell_type": "code",
   "execution_count": 183,
   "metadata": {},
   "outputs": [
    {
     "data": {
      "text/plain": [
       "1\n",
       "Educación primaria o inferior    0.27\n",
       "Educación secundaria 1ª etapa    0.55\n",
       "Educación secundaria 2ª etapa    0.70\n",
       "Educación superior               2.48\n",
       "Name: 2, dtype: float64"
      ]
     },
     "execution_count": 183,
     "metadata": {},
     "output_type": "execute_result"
    }
   ],
   "source": [
    "### Extracts income by education and creates a normalized index with the values\n",
    "df_educ = pd.DataFrame(pd.read_excel(\"./data/raw/ecv19.xlsx\", sheet_name=\"2.1.2\",skiprows=11,index_col=1,nrows=4,header=None)).iloc[:,1]\n",
    "df_educ = round(((df_educ-df_educ.mean())/df_educ.std()+1),2)\n",
    "df_educ"
   ]
  },
  {
   "cell_type": "code",
   "execution_count": 186,
   "metadata": {},
   "outputs": [
    {
     "data": {
      "text/plain": [
       "1\n",
       "Ocupados           1.67\n",
       "Parados           -0.06\n",
       "Jubilados          2.02\n",
       "Otros inactivos    0.37\n",
       "Name: 2, dtype: float64"
      ]
     },
     "execution_count": 186,
     "metadata": {},
     "output_type": "execute_result"
    }
   ],
   "source": [
    "### Extracts income by occupation and creates a normalized index with the values\n",
    "df_ocup = pd.DataFrame(pd.read_excel(\"./data/raw/ecv19.xlsx\", sheet_name=\"2.1.3\",skiprows=11,index_col=1,nrows=4,header=None)).iloc[:,1]\n",
    "df_ocup = round(((df_ocup-df_ocup.mean())/df_ocup.std()+1),2)\n",
    "df_ocup"
   ]
  },
  {
   "cell_type": "code",
   "execution_count": 72,
   "metadata": {},
   "outputs": [],
   "source": [
    "from utils import utils as ut\n",
    "import numpy as np\n",
    "import pandas as pd\n",
    "import matplotlib as plt\n",
    "\n",
    "df_gender_age, df_educ, df_occup = ut.aux_data_extraction()\n",
    "df_transp = pd.read_csv(\"./data/treated/transp.csv\")\n"
   ]
  },
  {
   "cell_type": "code",
   "execution_count": 74,
   "metadata": {},
   "outputs": [
    {
     "data": {
      "image/png": "[encoded data removed]",
      "text/plain": [
       "<Figure size 640x480 with 1 Axes>"
      ]
     },
     "metadata": {},
     "output_type": "display_data"
    }
   ],
   "source": [
    "###TODO: get the hists right\n",
    "plt.figure\n",
    "inc_hist = df_transp['income'].hist()\n",
    "inc_hist.get_figure().savefig('./img/plots/hists/income.png')\n",
    "plt.figure\n",
    "worker_inc_hist = df_transp[df_transp['activity'] == \"worker\"]['income'].hist()\n",
    "worker_inc_hist.get_figure().savefig('./img/plots/hists/workers_income.png')\n",
    "\n"
   ]
  },
  {
   "cell_type": "code",
   "execution_count": 75,
   "metadata": {},
   "outputs": [
    {
     "data": {
      "text/plain": [
       "income\n",
       "96.25         6\n",
       "98.00      9799\n",
       "103.25       73\n",
       "105.00     1036\n",
       "107.00    13400\n",
       "          ...  \n",
       "301.75      328\n",
       "309.25    17926\n",
       "318.00     1671\n",
       "334.25    15199\n",
       "343.00     2323\n",
       "Name: id_indiv, Length: 122, dtype: int64"
      ]
     },
     "execution_count": 75,
     "metadata": {},
     "output_type": "execute_result"
    }
   ],
   "source": [
    "df_transp.groupby('income')['id_indiv'].count()"
   ]
  }
 ],
 "metadata": {
  "kernelspec": {
   "display_name": "Python 3",
   "language": "python",
   "name": "python3"
  },
  "language_info": {
   "codemirror_mode": {
    "name": "ipython",
    "version": 3
   },
   "file_extension": ".py",
   "mimetype": "text/x-python",
   "name": "python",
   "nbconvert_exporter": "python",
   "pygments_lexer": "ipython3",
   "version": "3.12.5"
  },
  "orig_nbformat": 4
 },
 "nbformat": 4,
 "nbformat_minor": 2
}
