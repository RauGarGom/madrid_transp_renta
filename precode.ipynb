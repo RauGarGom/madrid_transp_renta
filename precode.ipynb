{
 "cells": [
  {
   "cell_type": "markdown",
   "metadata": {},
   "source": [
    "<img src=\"./img/metro_madrid.jpg\" alt=\"drawing\" width=\"500\"/>"
   ]
  },
  {
   "cell_type": "markdown",
   "metadata": {},
   "source": [
    "# Transporte y renta en la Comunidad de Madrid"
   ]
  },
  {
   "cell_type": "markdown",
   "metadata": {},
   "source": [
    "### TEMA"
   ]
  },
  {
   "cell_type": "markdown",
   "metadata": {},
   "source": [
    "Este proyecto busca arrojar luz sobre los patrones de comportamiento en el transporte de los ciudadanos de la Comunidad de Madrid, estudiando posibles vínculos con su renta. Para ello, se utiliza la [Encuesta de Movilidad del Consorcio Regional](https://datos.comunidad.madrid/dataset/resultados-edm2018) de Transportes de Madrid (CRTM), realizada en el 2018.\n",
    "\n",
    "Para los cálculos de la renta, se utilizan diferentes tablas extraídas de la [Encuesta de Condiciones de Vida](https://ine.es/dyngs/INEbase/es/operacion.htm?c=Estadistica_C&cid=1254736176807&menu=ultiDatos&idp=1254735976608) del INE, para el año 2018"
   ]
  },
  {
   "cell_type": "markdown",
   "metadata": {},
   "source": [
    "### HIPÓTESIS"
   ]
  },
  {
   "cell_type": "markdown",
   "metadata": {},
   "source": [
    "La hipótesis principal de este proyecto es que **existe una relación entre la renta y el uso del transporte en la Comunidad de Madrid**. En concreto, se buscará contrastar:\n",
    "+ Si las rentas más altas eligen el coche como primera opción para desplazamientos laborales y por placer.\n",
    "+ Las rentas bajas, para trabajar, utilizan más el transporte público que el coche.\n",
    "+ Las mujeres utilizan más el transporte público para desplazamientos laborales, sin tener en cuenta la renta.\n",
    "    + Lo que, unido al segundo punto, explicaría que las mujeres no usan más el transporte público por deseo sino por necesidad.\n",
    "+ Los hombres utilizan más el transporte privado para desplazamientos por placer\n"
   ]
  },
  {
   "cell_type": "markdown",
   "metadata": {},
   "source": [
    "### SUPUESTOS\n",
    "Dados los datos utilizados, hemos de tener en cuenta varios puntos:\n",
    "+ Se está utilizando la última encuesta publicada por el CRTM (en serio).\n",
    "    + Sí se cuentan con los datos de uso del Metro de Madrid, que en 2023 volvieron a niveles pre-pandemia. Por tanto, podemos suponer que no han cambiado las pautas de comportamiento en un nivel agregado\n",
    "+ No contamos con la renta de los encuestados. Para ello generaremos un dato *proxy*, que estimaremos en función de las condiciones socioeconómicas de los encuestados (edad, ocupación, género, grado de educación, y si cuenta con coche).\n",
    "    + Renta != Riqueza. Estimaremos la cantidad de **generar** , no de **poseer**. Una persona sin trabajo pero con patrimonio no quedará reflejada en este estudio.\n",
    "    + Por disponibilidad de los datos, se utilizarán las medias de las rentas. En función de disponibilidad de los datos, es posible que se recoja la media española en lugar de la de la Comunidad de Madrid.\n",
    "+ Los datos sólo tienen en cuenta días estrictamente laborales (Lunes-Jueves)\n",
    "+ Si bien no tiene impacto a primera vista sobre las hipótesis, se realizará un estudio de impacto de la **meteorología** sobre el uso de unos u otros medios transportes.\n"
   ]
  },
  {
   "cell_type": "markdown",
   "metadata": {},
   "source": [
    "## OBTENCIÓN DE LOS DATOS"
   ]
  },
  {
   "cell_type": "markdown",
   "metadata": {},
   "source": [
    "### DATASETS Y FUENTES ALTERNATIVAS DE DATOS"
   ]
  },
  {
   "cell_type": "code",
   "execution_count": 1,
   "metadata": {},
   "outputs": [],
   "source": [
    "import hashlib\n",
    "import requests\n",
    "import datetime\n",
    "import pandas as pd\n",
    "import numpy as np\n",
    "import seaborn as sns\n",
    "import matplotlib.pyplot as plt\n",
    "import matplotlib.colors as mcolors\n",
    "from utils import utils as ut\n",
    "df_transp = pd.DataFrame(pd.read_csv(\"./data/treated/transp.csv\"))\n"
   ]
  },
  {
   "cell_type": "code",
   "execution_count": 2,
   "metadata": {},
   "outputs": [],
   "source": [
    "###TODO: Comparar medias y medianas de transp_dry_work\n",
    "###TODO: Sacar boxplots por sexo y por dry/rain y por occupation\n",
    "###TODO: Iniciar la presentación con noticias de desigualdad"
   ]
  },
  {
   "cell_type": "code",
   "execution_count": 3,
   "metadata": {},
   "outputs": [
    {
     "data": {
      "text/html": [
       "<div>\n",
       "<style scoped>\n",
       "    .dataframe tbody tr th:only-of-type {\n",
       "        vertical-align: middle;\n",
       "    }\n",
       "\n",
       "    .dataframe tbody tr th {\n",
       "        vertical-align: top;\n",
       "    }\n",
       "\n",
       "    .dataframe thead th {\n",
       "        text-align: right;\n",
       "    }\n",
       "</style>\n",
       "<table border=\"1\" class=\"dataframe\">\n",
       "  <thead>\n",
       "    <tr style=\"text-align: right;\">\n",
       "      <th></th>\n",
       "      <th>income</th>\n",
       "      <th>income</th>\n",
       "    </tr>\n",
       "    <tr>\n",
       "      <th>transport</th>\n",
       "      <th></th>\n",
       "      <th></th>\n",
       "    </tr>\n",
       "  </thead>\n",
       "  <tbody>\n",
       "    <tr>\n",
       "      <th>bike</th>\n",
       "      <td>280.081281</td>\n",
       "      <td>269.527559</td>\n",
       "    </tr>\n",
       "    <tr>\n",
       "      <th>car</th>\n",
       "      <td>274.892624</td>\n",
       "      <td>274.497706</td>\n",
       "    </tr>\n",
       "    <tr>\n",
       "      <th>motorbike</th>\n",
       "      <td>284.365079</td>\n",
       "      <td>283.599287</td>\n",
       "    </tr>\n",
       "    <tr>\n",
       "      <th>other</th>\n",
       "      <td>275.708861</td>\n",
       "      <td>271.569444</td>\n",
       "    </tr>\n",
       "    <tr>\n",
       "      <th>public</th>\n",
       "      <td>262.801276</td>\n",
       "      <td>262.596404</td>\n",
       "    </tr>\n",
       "    <tr>\n",
       "      <th>taxi</th>\n",
       "      <td>283.877273</td>\n",
       "      <td>281.854331</td>\n",
       "    </tr>\n",
       "    <tr>\n",
       "      <th>walking</th>\n",
       "      <td>268.063372</td>\n",
       "      <td>268.771374</td>\n",
       "    </tr>\n",
       "  </tbody>\n",
       "</table>\n",
       "</div>"
      ],
      "text/plain": [
       "               income      income\n",
       "transport                        \n",
       "bike       280.081281  269.527559\n",
       "car        274.892624  274.497706\n",
       "motorbike  284.365079  283.599287\n",
       "other      275.708861  271.569444\n",
       "public     262.801276  262.596404\n",
       "taxi       283.877273  281.854331\n",
       "walking    268.063372  268.771374"
      ]
     },
     "execution_count": 3,
     "metadata": {},
     "output_type": "execute_result"
    }
   ],
   "source": [
    "### TODO: Medians comparison\n",
    "df_transp_dry_work = df_transp[(df_transp[\"weather\"] == \"dry\") & (df_transp[\"reason\"] == \"work\")] \n",
    "df_transp_rain_work = df_transp[(df_transp[\"weather\"] == \"rain\") & (df_transp[\"reason\"] == \"work\")] \n",
    "\n",
    "\n",
    "transp_medians_dry = df_transp_dry_work.groupby('transport')['income'].mean().sort_index(ascending=True)\n",
    "transp_medians_rain = df_transp_rain_work.groupby('transport')['income'].mean().sort_index(ascending=True)\n",
    "transp_medians=pd.concat([transp_medians_dry,transp_medians_rain],axis=1)\n",
    "transp_medians"
   ]
  },
  {
   "cell_type": "code",
   "execution_count": 122,
   "metadata": {},
   "outputs": [
    {
     "data": {
      "image/png": "[encoded data removed]",
      "text/plain": [
       "<Figure size 640x480 with 1 Axes>"
      ]
     },
     "metadata": {},
     "output_type": "display_data"
    }
   ],
   "source": [
    "### TODO: Hypo 2\n",
    "### TODO: Debería poder utilizar corr aquí\n",
    "plt.style.use('seaborn-v0_8-deep')\n",
    "df_transp_2 = df_transp[(df_transp[\"weather\"] == \"dry\") & (df_transp[\"reason\"] == \"work\") & (df_transp[\"transport\"].isin([\"car\",\"public\",\"walking\"]))]\n",
    "df_transp_2 = df_transp_2.groupby(['transport','gender'])[['id_indiv']].count().unstack()\n",
    "df_transp_2 = round(df_transp_2/df_transp_2.sum()*100,1).stack(future_stack=True).reset_index()\n",
    "df_transp_2\n",
    "plt.figure()\n",
    "sns.barplot(data=df_transp_2,x='transport',y='id_indiv',hue='gender',errorbar=None)\n",
    "plt.title(\"Percentual usage of main transport modes for workers, by gender\")\n",
    "plt.xlabel(\"Mode of transport\")\n",
    "plt.ylabel(\"Percentage\")\n",
    "plt.savefig('./img/plots/bars/percen_transport_workers_gender.png')\n",
    "plt.show();\n"
   ]
  },
  {
   "cell_type": "code",
   "execution_count": 5,
   "metadata": {},
   "outputs": [
    {
     "data": {
      "text/plain": [
       "Index(['id_indiv', 'id_trip', 'start_trip', 'transport', 'freq', 'reason',\n",
       "       'distance', 'trip_pond', 'gender', 'age', 'spanish', 'studies',\n",
       "       'activity', 'day', 'month', 'year', 'week_day', 'datemerge', 'tmed',\n",
       "       'prec', 'weather', 'income'],\n",
       "      dtype='object')"
      ]
     },
     "execution_count": 5,
     "metadata": {},
     "output_type": "execute_result"
    }
   ],
   "source": [
    "df_transp.columns"
   ]
  }
 ],
 "metadata": {
  "kernelspec": {
   "display_name": "Python 3",
   "language": "python",
   "name": "python3"
  },
  "language_info": {
   "codemirror_mode": {
    "name": "ipython",
    "version": 3
   },
   "file_extension": ".py",
   "mimetype": "text/x-python",
   "name": "python",
   "nbconvert_exporter": "python",
   "pygments_lexer": "ipython3",
   "version": "3.12.5"
  },
  "orig_nbformat": 4
 },
 "nbformat": 4,
 "nbformat_minor": 2
}
